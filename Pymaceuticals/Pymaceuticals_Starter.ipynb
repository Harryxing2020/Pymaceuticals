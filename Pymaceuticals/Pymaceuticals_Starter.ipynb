{
 "cells": [
  {
   "cell_type": "markdown",
   "metadata": {},
   "source": [
    "## Observations and Insights\n",
    "#### Add your analysis here\n",
    "---"
   ]
  },
  {
   "cell_type": "code",
   "execution_count": 1,
   "metadata": {},
   "outputs": [],
   "source": [
    "# Dependencies and Setup\n",
    "import matplotlib.pyplot as plt\n",
    "import pandas as pd\n",
    "import scipy.stats as st\n",
    "import numpy as np\n",
    "from scipy.stats import linregress\n",
    "# Study data files\n",
    "mouse_metadata_path = \"data/Mouse_metadata.csv\"\n",
    "study_results_path = \"data/Study_results.csv\"\n",
    "# Read the mouse data and the study results\n",
    "mouse_metadata = pd.read_csv(mouse_metadata_path)\n",
    "study_results = pd.read_csv(study_results_path)"
   ]
  },
  {
   "cell_type": "code",
   "execution_count": 2,
   "metadata": {},
   "outputs": [
    {
     "data": {
      "text/html": [
       "<div>\n",
       "<style scoped>\n",
       "    .dataframe tbody tr th:only-of-type {\n",
       "        vertical-align: middle;\n",
       "    }\n",
       "\n",
       "    .dataframe tbody tr th {\n",
       "        vertical-align: top;\n",
       "    }\n",
       "\n",
       "    .dataframe thead th {\n",
       "        text-align: right;\n",
       "    }\n",
       "</style>\n",
       "<table border=\"1\" class=\"dataframe\">\n",
       "  <thead>\n",
       "    <tr style=\"text-align: right;\">\n",
       "      <th></th>\n",
       "      <th>Mouse ID</th>\n",
       "      <th>Timepoint</th>\n",
       "      <th>Tumor Volume (mm3)</th>\n",
       "      <th>Metastatic Sites</th>\n",
       "      <th>Drug Regimen</th>\n",
       "      <th>Sex</th>\n",
       "      <th>Age_months</th>\n",
       "      <th>Weight (g)</th>\n",
       "    </tr>\n",
       "  </thead>\n",
       "  <tbody>\n",
       "    <tr>\n",
       "      <th>0</th>\n",
       "      <td>b128</td>\n",
       "      <td>0</td>\n",
       "      <td>45.000000</td>\n",
       "      <td>0</td>\n",
       "      <td>Capomulin</td>\n",
       "      <td>Female</td>\n",
       "      <td>9</td>\n",
       "      <td>22</td>\n",
       "    </tr>\n",
       "    <tr>\n",
       "      <th>1</th>\n",
       "      <td>b128</td>\n",
       "      <td>5</td>\n",
       "      <td>45.651331</td>\n",
       "      <td>0</td>\n",
       "      <td>Capomulin</td>\n",
       "      <td>Female</td>\n",
       "      <td>9</td>\n",
       "      <td>22</td>\n",
       "    </tr>\n",
       "    <tr>\n",
       "      <th>2</th>\n",
       "      <td>b128</td>\n",
       "      <td>10</td>\n",
       "      <td>43.270852</td>\n",
       "      <td>0</td>\n",
       "      <td>Capomulin</td>\n",
       "      <td>Female</td>\n",
       "      <td>9</td>\n",
       "      <td>22</td>\n",
       "    </tr>\n",
       "    <tr>\n",
       "      <th>3</th>\n",
       "      <td>b128</td>\n",
       "      <td>15</td>\n",
       "      <td>43.784893</td>\n",
       "      <td>0</td>\n",
       "      <td>Capomulin</td>\n",
       "      <td>Female</td>\n",
       "      <td>9</td>\n",
       "      <td>22</td>\n",
       "    </tr>\n",
       "    <tr>\n",
       "      <th>4</th>\n",
       "      <td>b128</td>\n",
       "      <td>20</td>\n",
       "      <td>42.731552</td>\n",
       "      <td>0</td>\n",
       "      <td>Capomulin</td>\n",
       "      <td>Female</td>\n",
       "      <td>9</td>\n",
       "      <td>22</td>\n",
       "    </tr>\n",
       "  </tbody>\n",
       "</table>\n",
       "</div>"
      ],
      "text/plain": [
       "  Mouse ID  Timepoint  Tumor Volume (mm3)  Metastatic Sites Drug Regimen  \\\n",
       "0     b128          0           45.000000                 0    Capomulin   \n",
       "1     b128          5           45.651331                 0    Capomulin   \n",
       "2     b128         10           43.270852                 0    Capomulin   \n",
       "3     b128         15           43.784893                 0    Capomulin   \n",
       "4     b128         20           42.731552                 0    Capomulin   \n",
       "\n",
       "      Sex  Age_months  Weight (g)  \n",
       "0  Female           9          22  \n",
       "1  Female           9          22  \n",
       "2  Female           9          22  \n",
       "3  Female           9          22  \n",
       "4  Female           9          22  "
      ]
     },
     "execution_count": 2,
     "metadata": {},
     "output_type": "execute_result"
    }
   ],
   "source": [
    "# Combine the data into a single dataset\n",
    "combined_mouse_metadata = pd.merge(study_results, mouse_metadata, on='Mouse ID', how=\"outer\",)\n",
    "# Display the data table for preview\n",
    "combined_mouse_metadata.head()"
   ]
  },
  {
   "cell_type": "code",
   "execution_count": 3,
   "metadata": {},
   "outputs": [
    {
     "data": {
      "text/plain": [
       "249"
      ]
     },
     "execution_count": 3,
     "metadata": {},
     "output_type": "execute_result"
    }
   ],
   "source": [
    "# Check the number of mice.\n",
    "combined_mouse_metadata[\"Mouse ID\"].nunique()"
   ]
  },
  {
   "cell_type": "code",
   "execution_count": 62,
   "metadata": {},
   "outputs": [
    {
     "data": {
      "text/plain": [
       "array(['g989'], dtype=object)"
      ]
     },
     "execution_count": 62,
     "metadata": {},
     "output_type": "execute_result"
    }
   ],
   "source": [
    "# Getting the duplicate mice by ID number that shows up for Mouse ID and Timepoint.\n",
    "mice_duplicate = combined_mouse_metadata[combined_mouse_metadata.duplicated([\"Mouse ID\",\"Timepoint\"], keep =False)]\n",
    "mice_duplicate[\"Mouse ID\"].unique()"
   ]
  },
  {
   "cell_type": "code",
   "execution_count": 63,
   "metadata": {},
   "outputs": [
    {
     "data": {
      "text/html": [
       "<div>\n",
       "<style scoped>\n",
       "    .dataframe tbody tr th:only-of-type {\n",
       "        vertical-align: middle;\n",
       "    }\n",
       "\n",
       "    .dataframe tbody tr th {\n",
       "        vertical-align: top;\n",
       "    }\n",
       "\n",
       "    .dataframe thead th {\n",
       "        text-align: right;\n",
       "    }\n",
       "</style>\n",
       "<table border=\"1\" class=\"dataframe\">\n",
       "  <thead>\n",
       "    <tr style=\"text-align: right;\">\n",
       "      <th></th>\n",
       "      <th>Mouse ID</th>\n",
       "      <th>Timepoint</th>\n",
       "      <th>Tumor Volume (mm3)</th>\n",
       "      <th>Metastatic Sites</th>\n",
       "      <th>Drug Regimen</th>\n",
       "      <th>Sex</th>\n",
       "      <th>Age_months</th>\n",
       "      <th>Weight (g)</th>\n",
       "    </tr>\n",
       "  </thead>\n",
       "  <tbody>\n",
       "    <tr>\n",
       "      <th>860</th>\n",
       "      <td>g989</td>\n",
       "      <td>0</td>\n",
       "      <td>45.000000</td>\n",
       "      <td>0</td>\n",
       "      <td>Propriva</td>\n",
       "      <td>Female</td>\n",
       "      <td>21</td>\n",
       "      <td>26</td>\n",
       "    </tr>\n",
       "    <tr>\n",
       "      <th>861</th>\n",
       "      <td>g989</td>\n",
       "      <td>0</td>\n",
       "      <td>45.000000</td>\n",
       "      <td>0</td>\n",
       "      <td>Propriva</td>\n",
       "      <td>Female</td>\n",
       "      <td>21</td>\n",
       "      <td>26</td>\n",
       "    </tr>\n",
       "    <tr>\n",
       "      <th>862</th>\n",
       "      <td>g989</td>\n",
       "      <td>5</td>\n",
       "      <td>48.786801</td>\n",
       "      <td>0</td>\n",
       "      <td>Propriva</td>\n",
       "      <td>Female</td>\n",
       "      <td>21</td>\n",
       "      <td>26</td>\n",
       "    </tr>\n",
       "    <tr>\n",
       "      <th>863</th>\n",
       "      <td>g989</td>\n",
       "      <td>5</td>\n",
       "      <td>47.570392</td>\n",
       "      <td>0</td>\n",
       "      <td>Propriva</td>\n",
       "      <td>Female</td>\n",
       "      <td>21</td>\n",
       "      <td>26</td>\n",
       "    </tr>\n",
       "    <tr>\n",
       "      <th>864</th>\n",
       "      <td>g989</td>\n",
       "      <td>10</td>\n",
       "      <td>51.745156</td>\n",
       "      <td>0</td>\n",
       "      <td>Propriva</td>\n",
       "      <td>Female</td>\n",
       "      <td>21</td>\n",
       "      <td>26</td>\n",
       "    </tr>\n",
       "    <tr>\n",
       "      <th>865</th>\n",
       "      <td>g989</td>\n",
       "      <td>10</td>\n",
       "      <td>49.880528</td>\n",
       "      <td>0</td>\n",
       "      <td>Propriva</td>\n",
       "      <td>Female</td>\n",
       "      <td>21</td>\n",
       "      <td>26</td>\n",
       "    </tr>\n",
       "    <tr>\n",
       "      <th>866</th>\n",
       "      <td>g989</td>\n",
       "      <td>15</td>\n",
       "      <td>51.325852</td>\n",
       "      <td>1</td>\n",
       "      <td>Propriva</td>\n",
       "      <td>Female</td>\n",
       "      <td>21</td>\n",
       "      <td>26</td>\n",
       "    </tr>\n",
       "    <tr>\n",
       "      <th>867</th>\n",
       "      <td>g989</td>\n",
       "      <td>15</td>\n",
       "      <td>53.442020</td>\n",
       "      <td>0</td>\n",
       "      <td>Propriva</td>\n",
       "      <td>Female</td>\n",
       "      <td>21</td>\n",
       "      <td>26</td>\n",
       "    </tr>\n",
       "    <tr>\n",
       "      <th>868</th>\n",
       "      <td>g989</td>\n",
       "      <td>20</td>\n",
       "      <td>55.326122</td>\n",
       "      <td>1</td>\n",
       "      <td>Propriva</td>\n",
       "      <td>Female</td>\n",
       "      <td>21</td>\n",
       "      <td>26</td>\n",
       "    </tr>\n",
       "    <tr>\n",
       "      <th>869</th>\n",
       "      <td>g989</td>\n",
       "      <td>20</td>\n",
       "      <td>54.657650</td>\n",
       "      <td>1</td>\n",
       "      <td>Propriva</td>\n",
       "      <td>Female</td>\n",
       "      <td>21</td>\n",
       "      <td>26</td>\n",
       "    </tr>\n",
       "    <tr>\n",
       "      <th>870</th>\n",
       "      <td>g989</td>\n",
       "      <td>25</td>\n",
       "      <td>56.045564</td>\n",
       "      <td>1</td>\n",
       "      <td>Propriva</td>\n",
       "      <td>Female</td>\n",
       "      <td>21</td>\n",
       "      <td>26</td>\n",
       "    </tr>\n",
       "    <tr>\n",
       "      <th>871</th>\n",
       "      <td>g989</td>\n",
       "      <td>30</td>\n",
       "      <td>59.082294</td>\n",
       "      <td>1</td>\n",
       "      <td>Propriva</td>\n",
       "      <td>Female</td>\n",
       "      <td>21</td>\n",
       "      <td>26</td>\n",
       "    </tr>\n",
       "    <tr>\n",
       "      <th>872</th>\n",
       "      <td>g989</td>\n",
       "      <td>35</td>\n",
       "      <td>62.570880</td>\n",
       "      <td>2</td>\n",
       "      <td>Propriva</td>\n",
       "      <td>Female</td>\n",
       "      <td>21</td>\n",
       "      <td>26</td>\n",
       "    </tr>\n",
       "  </tbody>\n",
       "</table>\n",
       "</div>"
      ],
      "text/plain": [
       "    Mouse ID  Timepoint  Tumor Volume (mm3)  Metastatic Sites Drug Regimen  \\\n",
       "860     g989          0           45.000000                 0     Propriva   \n",
       "861     g989          0           45.000000                 0     Propriva   \n",
       "862     g989          5           48.786801                 0     Propriva   \n",
       "863     g989          5           47.570392                 0     Propriva   \n",
       "864     g989         10           51.745156                 0     Propriva   \n",
       "865     g989         10           49.880528                 0     Propriva   \n",
       "866     g989         15           51.325852                 1     Propriva   \n",
       "867     g989         15           53.442020                 0     Propriva   \n",
       "868     g989         20           55.326122                 1     Propriva   \n",
       "869     g989         20           54.657650                 1     Propriva   \n",
       "870     g989         25           56.045564                 1     Propriva   \n",
       "871     g989         30           59.082294                 1     Propriva   \n",
       "872     g989         35           62.570880                 2     Propriva   \n",
       "\n",
       "        Sex  Age_months  Weight (g)  \n",
       "860  Female          21          26  \n",
       "861  Female          21          26  \n",
       "862  Female          21          26  \n",
       "863  Female          21          26  \n",
       "864  Female          21          26  \n",
       "865  Female          21          26  \n",
       "866  Female          21          26  \n",
       "867  Female          21          26  \n",
       "868  Female          21          26  \n",
       "869  Female          21          26  \n",
       "870  Female          21          26  \n",
       "871  Female          21          26  \n",
       "872  Female          21          26  "
      ]
     },
     "execution_count": 63,
     "metadata": {},
     "output_type": "execute_result"
    }
   ],
   "source": [
    "# Optional: Get all the data for the duplicate mouse ID.\n",
    "combined_mouse_metadata[combined_mouse_metadata[\"Mouse ID\"] == mice_duplicate[\"Mouse ID\"].unique()[0]]"
   ]
  },
  {
   "cell_type": "code",
   "execution_count": 64,
   "metadata": {},
   "outputs": [
    {
     "name": "stdout",
     "output_type": "stream",
     "text": [
      "248\n"
     ]
    }
   ],
   "source": [
    "# Create a clean DataFrame by dropping the duplicate mouse by its ID.\n",
    "combined_mouse_metadata_clear = combined_mouse_metadata.copy()\n",
    "# Delete these row indexes from dataFrame\n",
    "indexNames = combined_mouse_metadata_clear[combined_mouse_metadata_clear['Mouse ID'] == mice_duplicate[\"Mouse ID\"].unique()[0]].index\n",
    "combined_mouse_metadata_clear.drop(indexNames,inplace=True)\n",
    "# Check the number of mice in the clean DataFrame.\n",
    "print(combined_mouse_metadata_clear[\"Mouse ID\"].nunique())"
   ]
  },
  {
   "cell_type": "markdown",
   "metadata": {},
   "source": [
    "## Summary Statistics"
   ]
  },
  {
   "cell_type": "code",
   "execution_count": 65,
   "metadata": {},
   "outputs": [
    {
     "data": {
      "text/html": [
       "<div>\n",
       "<style scoped>\n",
       "    .dataframe tbody tr th:only-of-type {\n",
       "        vertical-align: middle;\n",
       "    }\n",
       "\n",
       "    .dataframe tbody tr th {\n",
       "        vertical-align: top;\n",
       "    }\n",
       "\n",
       "    .dataframe thead th {\n",
       "        text-align: right;\n",
       "    }\n",
       "</style>\n",
       "<table border=\"1\" class=\"dataframe\">\n",
       "  <thead>\n",
       "    <tr style=\"text-align: right;\">\n",
       "      <th></th>\n",
       "      <th>Mean Tumor Volume</th>\n",
       "      <th>Median Tumor Volume</th>\n",
       "      <th>Tumor Volume Variance</th>\n",
       "      <th>Tumor Volume Std. Dev.</th>\n",
       "      <th>Tumor Volume Std. Err.</th>\n",
       "    </tr>\n",
       "    <tr>\n",
       "      <th>Drug Regimen</th>\n",
       "      <th></th>\n",
       "      <th></th>\n",
       "      <th></th>\n",
       "      <th></th>\n",
       "      <th></th>\n",
       "    </tr>\n",
       "  </thead>\n",
       "  <tbody>\n",
       "    <tr>\n",
       "      <th>Capomulin</th>\n",
       "      <td>40.675741</td>\n",
       "      <td>41.557809</td>\n",
       "      <td>24.947764</td>\n",
       "      <td>4.994774</td>\n",
       "      <td>0.329346</td>\n",
       "    </tr>\n",
       "    <tr>\n",
       "      <th>Ceftamin</th>\n",
       "      <td>52.591172</td>\n",
       "      <td>51.776157</td>\n",
       "      <td>39.290177</td>\n",
       "      <td>6.268188</td>\n",
       "      <td>0.469821</td>\n",
       "    </tr>\n",
       "    <tr>\n",
       "      <th>Infubinol</th>\n",
       "      <td>52.884795</td>\n",
       "      <td>51.820584</td>\n",
       "      <td>43.128684</td>\n",
       "      <td>6.567243</td>\n",
       "      <td>0.492236</td>\n",
       "    </tr>\n",
       "    <tr>\n",
       "      <th>Ketapril</th>\n",
       "      <td>55.235638</td>\n",
       "      <td>53.698743</td>\n",
       "      <td>68.553577</td>\n",
       "      <td>8.279709</td>\n",
       "      <td>0.603860</td>\n",
       "    </tr>\n",
       "    <tr>\n",
       "      <th>Naftisol</th>\n",
       "      <td>54.331565</td>\n",
       "      <td>52.509285</td>\n",
       "      <td>66.173479</td>\n",
       "      <td>8.134708</td>\n",
       "      <td>0.596466</td>\n",
       "    </tr>\n",
       "    <tr>\n",
       "      <th>Placebo</th>\n",
       "      <td>54.033581</td>\n",
       "      <td>52.288934</td>\n",
       "      <td>61.168083</td>\n",
       "      <td>7.821003</td>\n",
       "      <td>0.581331</td>\n",
       "    </tr>\n",
       "    <tr>\n",
       "      <th>Propriva</th>\n",
       "      <td>52.320930</td>\n",
       "      <td>50.446266</td>\n",
       "      <td>43.852013</td>\n",
       "      <td>6.622085</td>\n",
       "      <td>0.544332</td>\n",
       "    </tr>\n",
       "    <tr>\n",
       "      <th>Ramicane</th>\n",
       "      <td>40.216745</td>\n",
       "      <td>40.673236</td>\n",
       "      <td>23.486704</td>\n",
       "      <td>4.846308</td>\n",
       "      <td>0.320955</td>\n",
       "    </tr>\n",
       "    <tr>\n",
       "      <th>Stelasyn</th>\n",
       "      <td>54.233149</td>\n",
       "      <td>52.431737</td>\n",
       "      <td>59.450562</td>\n",
       "      <td>7.710419</td>\n",
       "      <td>0.573111</td>\n",
       "    </tr>\n",
       "    <tr>\n",
       "      <th>Zoniferol</th>\n",
       "      <td>53.236507</td>\n",
       "      <td>51.818479</td>\n",
       "      <td>48.533355</td>\n",
       "      <td>6.966589</td>\n",
       "      <td>0.516398</td>\n",
       "    </tr>\n",
       "  </tbody>\n",
       "</table>\n",
       "</div>"
      ],
      "text/plain": [
       "              Mean Tumor Volume  Median Tumor Volume  Tumor Volume Variance  \\\n",
       "Drug Regimen                                                                  \n",
       "Capomulin             40.675741            41.557809              24.947764   \n",
       "Ceftamin              52.591172            51.776157              39.290177   \n",
       "Infubinol             52.884795            51.820584              43.128684   \n",
       "Ketapril              55.235638            53.698743              68.553577   \n",
       "Naftisol              54.331565            52.509285              66.173479   \n",
       "Placebo               54.033581            52.288934              61.168083   \n",
       "Propriva              52.320930            50.446266              43.852013   \n",
       "Ramicane              40.216745            40.673236              23.486704   \n",
       "Stelasyn              54.233149            52.431737              59.450562   \n",
       "Zoniferol             53.236507            51.818479              48.533355   \n",
       "\n",
       "              Tumor Volume Std. Dev.  Tumor Volume Std. Err.  \n",
       "Drug Regimen                                                  \n",
       "Capomulin                   4.994774                0.329346  \n",
       "Ceftamin                    6.268188                0.469821  \n",
       "Infubinol                   6.567243                0.492236  \n",
       "Ketapril                    8.279709                0.603860  \n",
       "Naftisol                    8.134708                0.596466  \n",
       "Placebo                     7.821003                0.581331  \n",
       "Propriva                    6.622085                0.544332  \n",
       "Ramicane                    4.846308                0.320955  \n",
       "Stelasyn                    7.710419                0.573111  \n",
       "Zoniferol                   6.966589                0.516398  "
      ]
     },
     "execution_count": 65,
     "metadata": {},
     "output_type": "execute_result"
    }
   ],
   "source": [
    "# Generate a summary statistics table of mean, median, variance, standard deviation, and SEM of the tumor volume for each regimen\n",
    "# Use this straighforward method, create multiple series and put them all in a dataframe at the end.\n",
    "#sort the data by Drug Regimen column\n",
    "combined_mouse_metadata_clear = combined_mouse_metadata_clear.sort_values([\"Drug Regimen\"], ascending=True)\n",
    "# obtain the column name\n",
    "drug_regimen = combined_mouse_metadata_clear[\"Drug Regimen\"].unique()\n",
    "# initial 5 list for mean, median, variance, standard deviation, and SEM\n",
    "drug_regimen_mean = []\n",
    "drug_regimen_median  = []\n",
    "drug_regimen_variance  = []\n",
    "drug_regimen_std  = []\n",
    "drug_regimen_sem  = []\n",
    "\n",
    "#loop each Regimen in the dataframe\n",
    "for tem_row in drug_regimen:\n",
    "    drug_regimen_mean.append(combined_mouse_metadata_clear[combined_mouse_metadata_clear[\"Drug Regimen\"] == tem_row][\"Tumor Volume (mm3)\"].mean())\n",
    "    drug_regimen_median.append(combined_mouse_metadata_clear[combined_mouse_metadata_clear[\"Drug Regimen\"] == tem_row][\"Tumor Volume (mm3)\"].median())\n",
    "    drug_regimen_variance.append(combined_mouse_metadata_clear[combined_mouse_metadata_clear[\"Drug Regimen\"] == tem_row][\"Tumor Volume (mm3)\"].var())\n",
    "    drug_regimen_std.append(combined_mouse_metadata_clear[combined_mouse_metadata_clear[\"Drug Regimen\"] == tem_row][\"Tumor Volume (mm3)\"].std())\n",
    "    drug_regimen_sem.append(combined_mouse_metadata_clear[combined_mouse_metadata_clear[\"Drug Regimen\"] == tem_row][\"Tumor Volume (mm3)\"].sem())\n",
    "#create a new dataframe for display\n",
    "summary_statistics = pd.DataFrame({\n",
    "                            \"Drug Regimen\": drug_regimen,\n",
    "                            \"Mean Tumor Volume\": drug_regimen_mean,\n",
    "                           \"Median Tumor Volume\": drug_regimen_median, \n",
    "                           \"Tumor Volume Variance\": drug_regimen_variance, \n",
    "                           \"Tumor Volume Std. Dev.\": drug_regimen_std,\n",
    "                            \"Tumor Volume Std. Err.\": drug_regimen_sem       \n",
    "                                   })\n",
    "# Format cell\n",
    "summary_statistics.style.format({'Mean Tumor Volume':'{:,.6f}',\n",
    "                                 'Median Tumor Volume': '{:,.6f}',\n",
    "                                 'Tumor Volume Variance': '{:,.6f}',\n",
    "                                 'Tumor Volume Std. Dev.': '{:,.6f}',\n",
    "                                 'Tumor Volume Std. Err.': '{:,.6f}'                              \n",
    "                                })\n",
    "#reset index for new dataframe\n",
    "summary_statistics.set_index(\"Drug Regimen\")"
   ]
  },
  {
   "cell_type": "code",
   "execution_count": 68,
   "metadata": {},
   "outputs": [
    {
     "data": {
      "text/html": [
       "<style  type=\"text/css\" >\n",
       "</style><table id=\"T_742203b8_c3cf_11ea_921e_302432afb5ad\" ><thead>    <tr>        <th class=\"blank level0\" ></th>        <th class=\"col_heading level0 col0\" >Mean</th>        <th class=\"col_heading level0 col1\" >Median</th>        <th class=\"col_heading level0 col2\" >Var</th>        <th class=\"col_heading level0 col3\" >std</th>        <th class=\"col_heading level0 col4\" >sem</th>    </tr>    <tr>        <th class=\"index_name level0\" >Drug Regimen</th>        <th class=\"blank\" ></th>        <th class=\"blank\" ></th>        <th class=\"blank\" ></th>        <th class=\"blank\" ></th>        <th class=\"blank\" ></th>    </tr></thead><tbody>\n",
       "                <tr>\n",
       "                        <th id=\"T_742203b8_c3cf_11ea_921e_302432afb5adlevel0_row0\" class=\"row_heading level0 row0\" >Capomulin</th>\n",
       "                        <td id=\"T_742203b8_c3cf_11ea_921e_302432afb5adrow0_col0\" class=\"data row0 col0\" >40.675741</td>\n",
       "                        <td id=\"T_742203b8_c3cf_11ea_921e_302432afb5adrow0_col1\" class=\"data row0 col1\" >41.557809</td>\n",
       "                        <td id=\"T_742203b8_c3cf_11ea_921e_302432afb5adrow0_col2\" class=\"data row0 col2\" >24.947764</td>\n",
       "                        <td id=\"T_742203b8_c3cf_11ea_921e_302432afb5adrow0_col3\" class=\"data row0 col3\" >4.994774</td>\n",
       "                        <td id=\"T_742203b8_c3cf_11ea_921e_302432afb5adrow0_col4\" class=\"data row0 col4\" >0.329346</td>\n",
       "            </tr>\n",
       "            <tr>\n",
       "                        <th id=\"T_742203b8_c3cf_11ea_921e_302432afb5adlevel0_row1\" class=\"row_heading level0 row1\" >Ceftamin</th>\n",
       "                        <td id=\"T_742203b8_c3cf_11ea_921e_302432afb5adrow1_col0\" class=\"data row1 col0\" >52.591172</td>\n",
       "                        <td id=\"T_742203b8_c3cf_11ea_921e_302432afb5adrow1_col1\" class=\"data row1 col1\" >51.776157</td>\n",
       "                        <td id=\"T_742203b8_c3cf_11ea_921e_302432afb5adrow1_col2\" class=\"data row1 col2\" >39.290177</td>\n",
       "                        <td id=\"T_742203b8_c3cf_11ea_921e_302432afb5adrow1_col3\" class=\"data row1 col3\" >6.268188</td>\n",
       "                        <td id=\"T_742203b8_c3cf_11ea_921e_302432afb5adrow1_col4\" class=\"data row1 col4\" >0.469821</td>\n",
       "            </tr>\n",
       "            <tr>\n",
       "                        <th id=\"T_742203b8_c3cf_11ea_921e_302432afb5adlevel0_row2\" class=\"row_heading level0 row2\" >Infubinol</th>\n",
       "                        <td id=\"T_742203b8_c3cf_11ea_921e_302432afb5adrow2_col0\" class=\"data row2 col0\" >52.884795</td>\n",
       "                        <td id=\"T_742203b8_c3cf_11ea_921e_302432afb5adrow2_col1\" class=\"data row2 col1\" >51.820584</td>\n",
       "                        <td id=\"T_742203b8_c3cf_11ea_921e_302432afb5adrow2_col2\" class=\"data row2 col2\" >43.128684</td>\n",
       "                        <td id=\"T_742203b8_c3cf_11ea_921e_302432afb5adrow2_col3\" class=\"data row2 col3\" >6.567243</td>\n",
       "                        <td id=\"T_742203b8_c3cf_11ea_921e_302432afb5adrow2_col4\" class=\"data row2 col4\" >0.492236</td>\n",
       "            </tr>\n",
       "            <tr>\n",
       "                        <th id=\"T_742203b8_c3cf_11ea_921e_302432afb5adlevel0_row3\" class=\"row_heading level0 row3\" >Ketapril</th>\n",
       "                        <td id=\"T_742203b8_c3cf_11ea_921e_302432afb5adrow3_col0\" class=\"data row3 col0\" >55.235638</td>\n",
       "                        <td id=\"T_742203b8_c3cf_11ea_921e_302432afb5adrow3_col1\" class=\"data row3 col1\" >53.698743</td>\n",
       "                        <td id=\"T_742203b8_c3cf_11ea_921e_302432afb5adrow3_col2\" class=\"data row3 col2\" >68.553577</td>\n",
       "                        <td id=\"T_742203b8_c3cf_11ea_921e_302432afb5adrow3_col3\" class=\"data row3 col3\" >8.279709</td>\n",
       "                        <td id=\"T_742203b8_c3cf_11ea_921e_302432afb5adrow3_col4\" class=\"data row3 col4\" >0.603860</td>\n",
       "            </tr>\n",
       "            <tr>\n",
       "                        <th id=\"T_742203b8_c3cf_11ea_921e_302432afb5adlevel0_row4\" class=\"row_heading level0 row4\" >Naftisol</th>\n",
       "                        <td id=\"T_742203b8_c3cf_11ea_921e_302432afb5adrow4_col0\" class=\"data row4 col0\" >54.331565</td>\n",
       "                        <td id=\"T_742203b8_c3cf_11ea_921e_302432afb5adrow4_col1\" class=\"data row4 col1\" >52.509285</td>\n",
       "                        <td id=\"T_742203b8_c3cf_11ea_921e_302432afb5adrow4_col2\" class=\"data row4 col2\" >66.173479</td>\n",
       "                        <td id=\"T_742203b8_c3cf_11ea_921e_302432afb5adrow4_col3\" class=\"data row4 col3\" >8.134708</td>\n",
       "                        <td id=\"T_742203b8_c3cf_11ea_921e_302432afb5adrow4_col4\" class=\"data row4 col4\" >0.596466</td>\n",
       "            </tr>\n",
       "            <tr>\n",
       "                        <th id=\"T_742203b8_c3cf_11ea_921e_302432afb5adlevel0_row5\" class=\"row_heading level0 row5\" >Placebo</th>\n",
       "                        <td id=\"T_742203b8_c3cf_11ea_921e_302432afb5adrow5_col0\" class=\"data row5 col0\" >54.033581</td>\n",
       "                        <td id=\"T_742203b8_c3cf_11ea_921e_302432afb5adrow5_col1\" class=\"data row5 col1\" >52.288934</td>\n",
       "                        <td id=\"T_742203b8_c3cf_11ea_921e_302432afb5adrow5_col2\" class=\"data row5 col2\" >61.168083</td>\n",
       "                        <td id=\"T_742203b8_c3cf_11ea_921e_302432afb5adrow5_col3\" class=\"data row5 col3\" >7.821003</td>\n",
       "                        <td id=\"T_742203b8_c3cf_11ea_921e_302432afb5adrow5_col4\" class=\"data row5 col4\" >0.581331</td>\n",
       "            </tr>\n",
       "            <tr>\n",
       "                        <th id=\"T_742203b8_c3cf_11ea_921e_302432afb5adlevel0_row6\" class=\"row_heading level0 row6\" >Propriva</th>\n",
       "                        <td id=\"T_742203b8_c3cf_11ea_921e_302432afb5adrow6_col0\" class=\"data row6 col0\" >52.320930</td>\n",
       "                        <td id=\"T_742203b8_c3cf_11ea_921e_302432afb5adrow6_col1\" class=\"data row6 col1\" >50.446266</td>\n",
       "                        <td id=\"T_742203b8_c3cf_11ea_921e_302432afb5adrow6_col2\" class=\"data row6 col2\" >43.852013</td>\n",
       "                        <td id=\"T_742203b8_c3cf_11ea_921e_302432afb5adrow6_col3\" class=\"data row6 col3\" >6.622085</td>\n",
       "                        <td id=\"T_742203b8_c3cf_11ea_921e_302432afb5adrow6_col4\" class=\"data row6 col4\" >0.544332</td>\n",
       "            </tr>\n",
       "            <tr>\n",
       "                        <th id=\"T_742203b8_c3cf_11ea_921e_302432afb5adlevel0_row7\" class=\"row_heading level0 row7\" >Ramicane</th>\n",
       "                        <td id=\"T_742203b8_c3cf_11ea_921e_302432afb5adrow7_col0\" class=\"data row7 col0\" >40.216745</td>\n",
       "                        <td id=\"T_742203b8_c3cf_11ea_921e_302432afb5adrow7_col1\" class=\"data row7 col1\" >40.673236</td>\n",
       "                        <td id=\"T_742203b8_c3cf_11ea_921e_302432afb5adrow7_col2\" class=\"data row7 col2\" >23.486704</td>\n",
       "                        <td id=\"T_742203b8_c3cf_11ea_921e_302432afb5adrow7_col3\" class=\"data row7 col3\" >4.846308</td>\n",
       "                        <td id=\"T_742203b8_c3cf_11ea_921e_302432afb5adrow7_col4\" class=\"data row7 col4\" >0.320955</td>\n",
       "            </tr>\n",
       "            <tr>\n",
       "                        <th id=\"T_742203b8_c3cf_11ea_921e_302432afb5adlevel0_row8\" class=\"row_heading level0 row8\" >Stelasyn</th>\n",
       "                        <td id=\"T_742203b8_c3cf_11ea_921e_302432afb5adrow8_col0\" class=\"data row8 col0\" >54.233149</td>\n",
       "                        <td id=\"T_742203b8_c3cf_11ea_921e_302432afb5adrow8_col1\" class=\"data row8 col1\" >52.431737</td>\n",
       "                        <td id=\"T_742203b8_c3cf_11ea_921e_302432afb5adrow8_col2\" class=\"data row8 col2\" >59.450562</td>\n",
       "                        <td id=\"T_742203b8_c3cf_11ea_921e_302432afb5adrow8_col3\" class=\"data row8 col3\" >7.710419</td>\n",
       "                        <td id=\"T_742203b8_c3cf_11ea_921e_302432afb5adrow8_col4\" class=\"data row8 col4\" >0.573111</td>\n",
       "            </tr>\n",
       "            <tr>\n",
       "                        <th id=\"T_742203b8_c3cf_11ea_921e_302432afb5adlevel0_row9\" class=\"row_heading level0 row9\" >Zoniferol</th>\n",
       "                        <td id=\"T_742203b8_c3cf_11ea_921e_302432afb5adrow9_col0\" class=\"data row9 col0\" >53.236507</td>\n",
       "                        <td id=\"T_742203b8_c3cf_11ea_921e_302432afb5adrow9_col1\" class=\"data row9 col1\" >51.818479</td>\n",
       "                        <td id=\"T_742203b8_c3cf_11ea_921e_302432afb5adrow9_col2\" class=\"data row9 col2\" >48.533355</td>\n",
       "                        <td id=\"T_742203b8_c3cf_11ea_921e_302432afb5adrow9_col3\" class=\"data row9 col3\" >6.966589</td>\n",
       "                        <td id=\"T_742203b8_c3cf_11ea_921e_302432afb5adrow9_col4\" class=\"data row9 col4\" >0.516398</td>\n",
       "            </tr>\n",
       "    </tbody></table>"
      ],
      "text/plain": [
       "<pandas.io.formats.style.Styler at 0x232a6aa4c08>"
      ]
     },
     "execution_count": 68,
     "metadata": {},
     "output_type": "execute_result"
    }
   ],
   "source": [
    "# Generate a summary statistics table of mean, median, variance, standard deviation, and SEM of the tumor volume for each regimen\n",
    "# Use method to produce everything with a single groupby function\n",
    "\n",
    "#groupby Drug Regimen\n",
    "combined_mouse_group = combined_mouse_metadata_clear.groupby(\"Drug Regimen\")\n",
    "\n",
    "# aggredate mean, median, variance, standard deviation, and SEM\n",
    "combined_mouse_mean=combined_mouse_group[\"Tumor Volume (mm3)\"].mean()\n",
    "combined_mouse_median=combined_mouse_group[\"Tumor Volume (mm3)\"].median()\n",
    "combined_mouse_var=combined_mouse_group[\"Tumor Volume (mm3)\"].var()\n",
    "combined_mouse_std=combined_mouse_group[\"Tumor Volume (mm3)\"].std()\n",
    "combined_mouse_sem=combined_mouse_group[\"Tumor Volume (mm3)\"].sem()\n",
    "#create a new dataframe for display\n",
    "summary_statistics = pd.DataFrame({\"Mean\": combined_mouse_mean,\n",
    "                           \"Median\": combined_mouse_median, \n",
    "                           \"Var\": combined_mouse_var, \n",
    "                           \"std\": combined_mouse_std,\n",
    "                            \"sem\": combined_mouse_sem       \n",
    "                                   })\n",
    "# Format cell\n",
    "summary_statistics.style.format({'Mean Tumor Volume':'{:,.6f}',\n",
    "                                 'Median Tumor Volume': '{:,.6f}',\n",
    "                                 'Tumor Volume Variance': '{:,.6f}',\n",
    "                                 'Tumor Volume Std. Dev.': '{:,.6f}',\n",
    "                                 'Tumor Volume Std. Err.': '{:,.6f}'                              \n",
    "                                })"
   ]
  },
  {
   "cell_type": "markdown",
   "metadata": {},
   "source": [
    "## Bar and Pie Charts"
   ]
  },
  {
   "cell_type": "code",
   "execution_count": 69,
   "metadata": {},
   "outputs": [
    {
     "data": {
      "image/png": "[encoded data removed]",
      "text/plain": [
       "<Figure size 432x288 with 1 Axes>"
      ]
     },
     "metadata": {
      "needs_background": "light"
     },
     "output_type": "display_data"
    },
    {
     "data": {
      "text/plain": [
       "<Figure size 432x288 with 0 Axes>"
      ]
     },
     "metadata": {},
     "output_type": "display_data"
    }
   ],
   "source": [
    "# Generate a bar plot showing the total number of mice for each treatment throughout the course of the study using pandas. \n",
    "#groupby Drug Regimen\n",
    "combined_mouse_group = combined_mouse_metadata_clear.groupby(\"Drug Regimen\")\n",
    "#count the number of experiment \n",
    "plot_makers =combined_mouse_group[\"Timepoint\"].count()\n",
    "#pandas plot\n",
    "count_chart = plot_makers.sort_values(ascending=False ).plot(kind='bar', figsize=(6,4))\n",
    "#set chart title\n",
    "plt.xlabel(\"Drug Regimen\")\n",
    "plt.ylabel(\"Number of Data Points\")\n",
    "#show chart and set layout\n",
    "plt.show()\n",
    "plt.tight_layout()"
   ]
  },
  {
   "cell_type": "code",
   "execution_count": 70,
   "metadata": {},
   "outputs": [
    {
     "data": {
      "text/plain": [
       "Text(0, 0.5, 'Number of Data Points')"
      ]
     },
     "execution_count": 70,
     "metadata": {},
     "output_type": "execute_result"
    },
    {
     "data": {
      "image/png": "[encoded data removed]",
      "text/plain": [
       "<Figure size 432x288 with 1 Axes>"
      ]
     },
     "metadata": {
      "needs_background": "light"
     },
     "output_type": "display_data"
    }
   ],
   "source": [
    "# Generate a bar plot showing the total number of mice for each treatment throughout the course of the study using pyplot.\n",
    "#groupby Drug Regimen\n",
    "counts_data = combined_mouse_group[\"Timepoint\"].count()\n",
    "counts_data = np.sort(counts_data)[::-1]\n",
    "x_axis = combined_mouse_group[\"Timepoint\"].count().index\n",
    "#pyplot\n",
    "plt.bar(x_axis, counts_data, alpha=0.75, align=\"center\" )\n",
    "plt.xticks( rotation='vertical')\n",
    "plt.xlim(-0.75, len(x_axis)-0.25)\n",
    "plt.ylim(0, max(counts_data)+10)\n",
    "plt.xlabel(\"Drug Regimen\")\n",
    "plt.ylabel(\"Number of Data Points\")"
   ]
  },
  {
   "cell_type": "code",
   "execution_count": 71,
   "metadata": {},
   "outputs": [
    {
     "data": {
      "image/png": "[encoded data removed]",
      "text/plain": [
       "<Figure size 288x288 with 1 Axes>"
      ]
     },
     "metadata": {},
     "output_type": "display_data"
    }
   ],
   "source": [
    "# Generate a pie plot showing the distribution of female versus male mice using pandas\n",
    "combined_mouse_group = combined_mouse_metadata_clear.groupby(\"Sex\")\n",
    "sex_data = combined_mouse_group[\"Mouse ID\"].count()\n",
    "summary_statistics = pd.DataFrame(sex_data)\n",
    "summary_statistics[\"Percentage of Sex\"] = round(sex_data/sex_data.sum(),2)\n",
    "colors = [ 'orange', 'blue']\n",
    "explode = (0.01, 0)\n",
    "#pandas plot\n",
    "plot = summary_statistics.plot.pie(figsize=(4,4), \n",
    "        y = \"Percentage of Sex\",colors = colors, startangle=185, \n",
    "        explode = explode, shadow = True, autopct=\"%1.1f%%\")"
   ]
  },
  {
   "cell_type": "code",
   "execution_count": 72,
   "metadata": {},
   "outputs": [
    {
     "data": {
      "text/plain": [
       "Text(0.5, 1.0, 'Sex')"
      ]
     },
     "execution_count": 72,
     "metadata": {},
     "output_type": "execute_result"
    },
    {
     "data": {
      "image/png": "[encoded data removed]",
      "text/plain": [
       "<Figure size 432x288 with 1 Axes>"
      ]
     },
     "metadata": {},
     "output_type": "display_data"
    }
   ],
   "source": [
    "# Generate a pie plot showing the distribution of female versus male mice using pyplot\n",
    "combined_mouse_group = combined_mouse_metadata_clear.groupby(\"Sex\")\n",
    "sex_data = combined_mouse_group[\"Mouse ID\"].count()\n",
    "\n",
    "# Labels for the sections of our pie chart\n",
    "labels = sex_data.index\n",
    "# The values of each section of the pie chart\n",
    "sizes = round(sex_data/sex_data.sum(),2)\n",
    "# The colors of each section of the pie chart\n",
    "colors = [\"orange\",\"blue\"]\n",
    "explode = (0.01, 0)\n",
    "plt.pie(sizes, explode=explode, labels=labels, colors=colors,\n",
    "        autopct=\"%1.1f%%\", shadow=True, startangle=183)\n",
    "plt.title(\"Sex\")"
   ]
  },
  {
   "cell_type": "markdown",
   "metadata": {},
   "source": [
    "## Quartiles, Outliers and Boxplots"
   ]
  },
  {
   "cell_type": "code",
   "execution_count": 73,
   "metadata": {},
   "outputs": [
    {
     "data": {
      "text/html": [
       "<div>\n",
       "<style scoped>\n",
       "    .dataframe tbody tr th:only-of-type {\n",
       "        vertical-align: middle;\n",
       "    }\n",
       "\n",
       "    .dataframe tbody tr th {\n",
       "        vertical-align: top;\n",
       "    }\n",
       "\n",
       "    .dataframe thead th {\n",
       "        text-align: right;\n",
       "    }\n",
       "</style>\n",
       "<table border=\"1\" class=\"dataframe\">\n",
       "  <thead>\n",
       "    <tr style=\"text-align: right;\">\n",
       "      <th></th>\n",
       "      <th>Mouse ID</th>\n",
       "      <th>Timepoint</th>\n",
       "      <th>Tumor Volume (mm3)</th>\n",
       "      <th>Metastatic Sites</th>\n",
       "      <th>Drug Regimen</th>\n",
       "      <th>Sex</th>\n",
       "      <th>Age_months</th>\n",
       "      <th>Weight (g)</th>\n",
       "    </tr>\n",
       "  </thead>\n",
       "  <tbody>\n",
       "    <tr>\n",
       "      <th>0</th>\n",
       "      <td>a203</td>\n",
       "      <td>45</td>\n",
       "      <td>67.973419</td>\n",
       "      <td>2</td>\n",
       "      <td>Infubinol</td>\n",
       "      <td>Female</td>\n",
       "      <td>20</td>\n",
       "      <td>23</td>\n",
       "    </tr>\n",
       "    <tr>\n",
       "      <th>1</th>\n",
       "      <td>a251</td>\n",
       "      <td>45</td>\n",
       "      <td>65.525743</td>\n",
       "      <td>1</td>\n",
       "      <td>Infubinol</td>\n",
       "      <td>Female</td>\n",
       "      <td>21</td>\n",
       "      <td>25</td>\n",
       "    </tr>\n",
       "    <tr>\n",
       "      <th>2</th>\n",
       "      <td>a262</td>\n",
       "      <td>45</td>\n",
       "      <td>70.717621</td>\n",
       "      <td>4</td>\n",
       "      <td>Placebo</td>\n",
       "      <td>Female</td>\n",
       "      <td>17</td>\n",
       "      <td>29</td>\n",
       "    </tr>\n",
       "    <tr>\n",
       "      <th>3</th>\n",
       "      <td>a275</td>\n",
       "      <td>45</td>\n",
       "      <td>62.999356</td>\n",
       "      <td>3</td>\n",
       "      <td>Ceftamin</td>\n",
       "      <td>Female</td>\n",
       "      <td>20</td>\n",
       "      <td>28</td>\n",
       "    </tr>\n",
       "    <tr>\n",
       "      <th>4</th>\n",
       "      <td>a366</td>\n",
       "      <td>30</td>\n",
       "      <td>63.440686</td>\n",
       "      <td>1</td>\n",
       "      <td>Stelasyn</td>\n",
       "      <td>Female</td>\n",
       "      <td>16</td>\n",
       "      <td>29</td>\n",
       "    </tr>\n",
       "    <tr>\n",
       "      <th>...</th>\n",
       "      <td>...</td>\n",
       "      <td>...</td>\n",
       "      <td>...</td>\n",
       "      <td>...</td>\n",
       "      <td>...</td>\n",
       "      <td>...</td>\n",
       "      <td>...</td>\n",
       "      <td>...</td>\n",
       "    </tr>\n",
       "    <tr>\n",
       "      <th>243</th>\n",
       "      <td>z435</td>\n",
       "      <td>10</td>\n",
       "      <td>48.710661</td>\n",
       "      <td>0</td>\n",
       "      <td>Propriva</td>\n",
       "      <td>Female</td>\n",
       "      <td>12</td>\n",
       "      <td>26</td>\n",
       "    </tr>\n",
       "    <tr>\n",
       "      <th>244</th>\n",
       "      <td>z578</td>\n",
       "      <td>45</td>\n",
       "      <td>30.638696</td>\n",
       "      <td>0</td>\n",
       "      <td>Ramicane</td>\n",
       "      <td>Male</td>\n",
       "      <td>11</td>\n",
       "      <td>16</td>\n",
       "    </tr>\n",
       "    <tr>\n",
       "      <th>245</th>\n",
       "      <td>z581</td>\n",
       "      <td>45</td>\n",
       "      <td>62.754451</td>\n",
       "      <td>3</td>\n",
       "      <td>Infubinol</td>\n",
       "      <td>Female</td>\n",
       "      <td>24</td>\n",
       "      <td>25</td>\n",
       "    </tr>\n",
       "    <tr>\n",
       "      <th>246</th>\n",
       "      <td>z795</td>\n",
       "      <td>45</td>\n",
       "      <td>65.741070</td>\n",
       "      <td>3</td>\n",
       "      <td>Naftisol</td>\n",
       "      <td>Female</td>\n",
       "      <td>13</td>\n",
       "      <td>29</td>\n",
       "    </tr>\n",
       "    <tr>\n",
       "      <th>247</th>\n",
       "      <td>z969</td>\n",
       "      <td>45</td>\n",
       "      <td>73.867845</td>\n",
       "      <td>4</td>\n",
       "      <td>Naftisol</td>\n",
       "      <td>Male</td>\n",
       "      <td>9</td>\n",
       "      <td>30</td>\n",
       "    </tr>\n",
       "  </tbody>\n",
       "</table>\n",
       "<p>248 rows × 8 columns</p>\n",
       "</div>"
      ],
      "text/plain": [
       "    Mouse ID  Timepoint  Tumor Volume (mm3)  Metastatic Sites Drug Regimen  \\\n",
       "0       a203         45           67.973419                 2    Infubinol   \n",
       "1       a251         45           65.525743                 1    Infubinol   \n",
       "2       a262         45           70.717621                 4      Placebo   \n",
       "3       a275         45           62.999356                 3     Ceftamin   \n",
       "4       a366         30           63.440686                 1     Stelasyn   \n",
       "..       ...        ...                 ...               ...          ...   \n",
       "243     z435         10           48.710661                 0     Propriva   \n",
       "244     z578         45           30.638696                 0     Ramicane   \n",
       "245     z581         45           62.754451                 3    Infubinol   \n",
       "246     z795         45           65.741070                 3     Naftisol   \n",
       "247     z969         45           73.867845                 4     Naftisol   \n",
       "\n",
       "        Sex  Age_months  Weight (g)  \n",
       "0    Female          20          23  \n",
       "1    Female          21          25  \n",
       "2    Female          17          29  \n",
       "3    Female          20          28  \n",
       "4    Female          16          29  \n",
       "..      ...         ...         ...  \n",
       "243  Female          12          26  \n",
       "244    Male          11          16  \n",
       "245  Female          24          25  \n",
       "246  Female          13          29  \n",
       "247    Male           9          30  \n",
       "\n",
       "[248 rows x 8 columns]"
      ]
     },
     "execution_count": 73,
     "metadata": {},
     "output_type": "execute_result"
    }
   ],
   "source": [
    "# Calculate the final tumor volume of each mouse across each of the treatment regimens: \n",
    "# Start by getting the last (greatest) timepoint for each mouse\n",
    "# Merge this group df with the original dataframe to get the tumor volume at the last timepoint\n",
    "#groupby mouse id and sort the timepoint by descending\n",
    "most_promising_group=combined_mouse_metadata_clear.sort_values([\"Timepoint\"],ascending=False).groupby([\"Mouse ID\"])\n",
    "#first() getting the last (greatest) timepoint for each mouse\n",
    "summary_statistics = pd.DataFrame({\"Timepoint\": most_promising_group.first()[\"Timepoint\"],\n",
    "                           \"Tumor Volume (mm3)\": most_promising_group.first()[\"Tumor Volume (mm3)\"], \n",
    "                           \"Metastatic Sites\": most_promising_group.first()[\"Metastatic Sites\"], \n",
    "                           \"Drug Regimen\": most_promising_group.first()[\"Drug Regimen\"],\n",
    "                            \"Sex\": most_promising_group.first()[\"Sex\"], \n",
    "                            \"Age_months\": most_promising_group.first()[\"Age_months\"],                                     \n",
    "                            \"Weight (g)\": most_promising_group.first()[\"Weight (g)\"],                                     \n",
    "                                   })\n",
    "# remove the index\n",
    "summary_statistics.reset_index(drop=False)"
   ]
  },
  {
   "cell_type": "code",
   "execution_count": 75,
   "metadata": {},
   "outputs": [
    {
     "name": "stdout",
     "output_type": "stream",
     "text": [
      "Capomulin's lower quartile of Tumor Volume is: 37.69\n",
      "Capomulin's upper quartile of Tumor Volume is: 45.0\n",
      "Capomulin's interquartile range of Tumor Volume is: 7.31\n",
      "Capomulin's the median of Tumor Volume is: 41.56 \n",
      "There is at least 1 outlier lower than lower bound at Capomulin.\n",
      "-------------------------------------------------------------------\n",
      "Ramicane's lower quartile of Tumor Volume is: 36.67\n",
      "Ramicane's upper quartile of Tumor Volume is: 45.0\n",
      "Ramicane's interquartile range of Tumor Volume is: 8.33\n",
      "Ramicane's the median of Tumor Volume is: 40.67 \n",
      "There is at least 1 outlier lower than lower bound at Ramicane.\n",
      "-------------------------------------------------------------------\n",
      "Infubinol's lower quartile of Tumor Volume is: 47.31\n",
      "Infubinol's upper quartile of Tumor Volume is: 57.31\n",
      "Infubinol's interquartile range of Tumor Volume is: 10.0\n",
      "Infubinol's the median of Tumor Volume is: 51.82 \n",
      "There are no outliers at Infubinol.\n",
      "-------------------------------------------------------------------\n",
      "Ceftamin's lower quartile of Tumor Volume is: 47.21\n",
      "Ceftamin's upper quartile of Tumor Volume is: 56.8\n",
      "Ceftamin's interquartile range of Tumor Volume is: 9.59\n",
      "Ceftamin's the median of Tumor Volume is: 51.78 \n",
      "There are no outliers at Ceftamin.\n",
      "-------------------------------------------------------------------\n"
     ]
    }
   ],
   "source": [
    "# Put 4 treatment names into a list for use with a for loop (and later for plot labels)\n",
    "treatment_list = [\"Capomulin\", \"Ramicane\", \"Infubinol\", \"Ceftamin\"]\n",
    "# Create a empty list to fill with tumor vol data (for plotting) (hint: each element of the list will be series)\n",
    "tumor_vol_list = []\n",
    "for treatment in treatment_list:\n",
    "    tumor_vol_list.append(combined_mouse_metadata_clear[combined_mouse_metadata_clear[\"Drug Regimen\"] == treatment][\"Tumor Volume (mm3)\"])\n",
    "\n",
    "i = 0\n",
    "# For each treatment in the list, calculate the IQR and quantitatively \n",
    "# determine if there are any potential outliers. \n",
    "for tumor_volume  in tumor_vol_list:\n",
    "# Locate the rows which contain mice on each drug and get the tumor volumes\n",
    "# add subset to tumor volume data list\n",
    "# Determine outliers using upper and lower bounds\n",
    "    quartiles = tumor_volume.quantile([.25,.5,.75])\n",
    "    lowerq = quartiles[0.25]\n",
    "    upperq = quartiles[0.75]\n",
    "    iqr = round(upperq-lowerq,2)\n",
    "    lower_bound = lowerq - (1.5*iqr)\n",
    "    upper_bound = upperq + (1.5*iqr)\n",
    "    \n",
    "    print(f\"{treatment_list[i]}'s lower quartile of Tumor Volume is: {round(lowerq,2)}\")\n",
    "    print(f\"{treatment_list[i]}'s upper quartile of Tumor Volume is: {round(upperq,2)}\")\n",
    "    print(f\"{treatment_list[i]}'s interquartile range of Tumor Volume is: {round(iqr,2)}\")\n",
    "    print(f\"{treatment_list[i]}'s the median of Tumor Volume is: {round(quartiles[0.5],2)} \")\n",
    "    \n",
    "    if (lower_bound > tumor_volume.min()):\n",
    "        print(f\"There is at least 1 outlier lower than lower bound at {treatment_list[i]}.\")   \n",
    "    elif (upper_bound < tumor_volume.max()):\n",
    "        print(f\"There is at least 1 outlier greater than upper bound at {treatment_list[i]}.\")\n",
    "    else:\n",
    "        print(f\"There are no outliers at {treatment_list[i]}.\")\n",
    "    i+=1\n",
    "    print(\"-------------------------------------------------------------------\")\n"
   ]
  },
  {
   "cell_type": "code",
   "execution_count": 76,
   "metadata": {},
   "outputs": [
    {
     "data": {
      "image/png": "[encoded data removed]",
      "text/plain": [
       "<Figure size 432x288 with 1 Axes>"
      ]
     },
     "metadata": {
      "needs_background": "light"
     },
     "output_type": "display_data"
    }
   ],
   "source": [
    "# Generate a box plot of the final tumor volume of each mouse across four regimens of interest\n",
    "fig1, ax1 = plt.subplots()\n",
    "ax1.set_xlabel('Four regimens')\n",
    "ax1.set_ylabel('Final Tumor Volume(mm3)')\n",
    "ax1.boxplot(tumor_vol_list)\n",
    "ax1.set_xticklabels(treatment_list)\n",
    "plt.show()"
   ]
  },
  {
   "cell_type": "markdown",
   "metadata": {},
   "source": [
    "## Line and Scatter Plots"
   ]
  },
  {
   "cell_type": "code",
   "execution_count": 77,
   "metadata": {},
   "outputs": [
    {
     "data": {
      "text/plain": [
       "Text(0.5, 1.0, 'Capomulin treatment of mousel509')"
      ]
     },
     "execution_count": 77,
     "metadata": {},
     "output_type": "execute_result"
    },
    {
     "data": {
      "image/png": "[encoded data removed]",
      "text/plain": [
       "<Figure size 432x288 with 1 Axes>"
      ]
     },
     "metadata": {
      "needs_background": "light"
     },
     "output_type": "display_data"
    }
   ],
   "source": [
    "# Generate a line plot of time point versus tumor volume for a mouse treated with Capomulin\n",
    "#fill a new dataframe of Capomulin for mice l509 \n",
    "capomulin_mousel509 = combined_mouse_metadata_clear[(\n",
    "    combined_mouse_metadata_clear[\"Drug Regimen\"] == \"Capomulin\") & \n",
    "    (combined_mouse_metadata_clear[\"Mouse ID\"] == \"l509\")]\n",
    "#sort by Timepoint\n",
    "capomulin_mousel509 = capomulin_mousel509.sort_values([\"Timepoint\"], ascending=True)\n",
    "\n",
    "mouse_1_vol = (capomulin_mousel509['Tumor Volume (mm3)'].to_list())\n",
    "mouse_1_time = (capomulin_mousel509['Timepoint'].to_list())\n",
    "plt.plot(mouse_1_time, mouse_1_vol)\n",
    "plt.xlabel(\"Timepoint(days)\")\n",
    "plt.ylabel(\"Tumor Volume (mm3)\")\n",
    "plt.title(\"Capomulin treatment of mousel509\")"
   ]
  },
  {
   "cell_type": "code",
   "execution_count": 78,
   "metadata": {},
   "outputs": [
    {
     "data": {
      "text/plain": [
       "Text(0.5, 0, 'Weight (g)')"
      ]
     },
     "execution_count": 78,
     "metadata": {},
     "output_type": "execute_result"
    },
    {
     "data": {
      "image/png": "[encoded data removed]",
      "text/plain": [
       "<Figure size 432x288 with 1 Axes>"
      ]
     },
     "metadata": {
      "needs_background": "light"
     },
     "output_type": "display_data"
    }
   ],
   "source": [
    "# Generate a scatter plot of mouse weight versus average tumor volume for the Capomulin regimen\n",
    "#find Capomulin's dataframe\n",
    "mouse_sub_list = combined_mouse_metadata_clear[combined_mouse_metadata_clear['Drug Regimen'] == 'Capomulin']\n",
    "#groupby Mouse ID and get mean \n",
    "mouse_sub_list_group = mouse_sub_list.groupby(\"Mouse ID\")\n",
    "mouse_sub_list_weight = mouse_sub_list_group[\"Weight (g)\"].mean()\n",
    "mouse_sub_list_avg_vol = mouse_sub_list_group[\"Tumor Volume (mm3)\"].mean()\n",
    "plt.scatter(mouse_sub_list_weight, mouse_sub_list_avg_vol)\n",
    "plt.ylabel(\"Average Tumor Volume (mm3)\")\n",
    "plt.xlabel(\"Weight (g)\")"
   ]
  },
  {
   "cell_type": "markdown",
   "metadata": {},
   "source": [
    "## Correlation and Regression"
   ]
  },
  {
   "cell_type": "code",
   "execution_count": 79,
   "metadata": {},
   "outputs": [
    {
     "name": "stdout",
     "output_type": "stream",
     "text": [
      "The correlation between mouse weight and the average tumor volume is 0.84\n"
     ]
    },
    {
     "data": {
      "image/png": "[encoded data removed]",
      "text/plain": [
       "<Figure size 432x288 with 1 Axes>"
      ]
     },
     "metadata": {
      "needs_background": "light"
     },
     "output_type": "display_data"
    }
   ],
   "source": [
    "# Calculate the correlation coefficient and linear regression model \n",
    "# for mouse weight and average tumor volume for the Capomulin regimen\n",
    "x_values = mouse_sub_list_weight\n",
    "y_values = mouse_sub_list_avg_vol\n",
    "(slope, intercept, rvalue, pvalue, stderr) = linregress(x_values, y_values)\n",
    "regress_values = x_values * slope + intercept\n",
    "\n",
    "print(f\"The correlation between mouse weight and the average tumor volume is {round(rvalue,2)}\")\n",
    "\n",
    "line_eq = \"y = \" + str(round(slope,2)) + \"x + \" + str(round(intercept,2))\n",
    "\n",
    "plt.scatter(x_values,y_values)\n",
    "plt.plot(x_values,regress_values,\"r-\")\n",
    "\n",
    "plt.ylabel(\"Average Tumor Volume (mm3)\")\n",
    "plt.xlabel(\"Weight (g)\")\n",
    "plt.show()"
   ]
  },
  {
   "cell_type": "code",
   "execution_count": null,
   "metadata": {},
   "outputs": [],
   "source": []
  }
 ],
 "metadata": {
  "anaconda-cloud": {},
  "kernelspec": {
   "display_name": "Python 3",
   "language": "python",
   "name": "python3"
  },
  "language_info": {
   "codemirror_mode": {
    "name": "ipython",
    "version": 3
   },
   "file_extension": ".py",
   "mimetype": "text/x-python",
   "name": "python",
   "nbconvert_exporter": "python",
   "pygments_lexer": "ipython3",
   "version": "3.7.6"
  }
 },
 "nbformat": 4,
 "nbformat_minor": 2
}
